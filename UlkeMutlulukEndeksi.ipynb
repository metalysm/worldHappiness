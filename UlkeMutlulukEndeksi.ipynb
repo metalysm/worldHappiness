{
 "cells": [
  {
   "cell_type": "code",
   "execution_count": 2,
   "metadata": {},
   "outputs": [],
   "source": [
    "import numpy as np\n",
    "import pandas as pd\n",
    "import matplotlib.pyplot as plt\n",
    "import seaborn as sns\n",
    "plt.style.use(\"seaborn-whitegrid\")\n",
    "import warnings            \n",
    "warnings.filterwarnings(\"ignore\") "
   ]
  },
  {
   "cell_type": "code",
   "execution_count": 3,
   "metadata": {},
   "outputs": [
    {
     "data": {
      "text/html": [
       "<div>\n",
       "<style scoped>\n",
       "    .dataframe tbody tr th:only-of-type {\n",
       "        vertical-align: middle;\n",
       "    }\n",
       "\n",
       "    .dataframe tbody tr th {\n",
       "        vertical-align: top;\n",
       "    }\n",
       "\n",
       "    .dataframe thead th {\n",
       "        text-align: right;\n",
       "    }\n",
       "</style>\n",
       "<table border=\"1\" class=\"dataframe\">\n",
       "  <thead>\n",
       "    <tr style=\"text-align: right;\">\n",
       "      <th></th>\n",
       "      <th>Overall rank</th>\n",
       "      <th>Country or region</th>\n",
       "      <th>Score</th>\n",
       "      <th>GDP per capita</th>\n",
       "      <th>Social support</th>\n",
       "      <th>Healthy life expectancy</th>\n",
       "      <th>Freedom to make life choices</th>\n",
       "      <th>Generosity</th>\n",
       "      <th>Perceptions of corruption</th>\n",
       "    </tr>\n",
       "  </thead>\n",
       "  <tbody>\n",
       "    <tr>\n",
       "      <th>0</th>\n",
       "      <td>1</td>\n",
       "      <td>Finland</td>\n",
       "      <td>7.632</td>\n",
       "      <td>1.305</td>\n",
       "      <td>1.592</td>\n",
       "      <td>0.874</td>\n",
       "      <td>0.681</td>\n",
       "      <td>0.202</td>\n",
       "      <td>0.393</td>\n",
       "    </tr>\n",
       "    <tr>\n",
       "      <th>1</th>\n",
       "      <td>2</td>\n",
       "      <td>Norway</td>\n",
       "      <td>7.594</td>\n",
       "      <td>1.456</td>\n",
       "      <td>1.582</td>\n",
       "      <td>0.861</td>\n",
       "      <td>0.686</td>\n",
       "      <td>0.286</td>\n",
       "      <td>0.340</td>\n",
       "    </tr>\n",
       "    <tr>\n",
       "      <th>2</th>\n",
       "      <td>3</td>\n",
       "      <td>Denmark</td>\n",
       "      <td>7.555</td>\n",
       "      <td>1.351</td>\n",
       "      <td>1.590</td>\n",
       "      <td>0.868</td>\n",
       "      <td>0.683</td>\n",
       "      <td>0.284</td>\n",
       "      <td>0.408</td>\n",
       "    </tr>\n",
       "    <tr>\n",
       "      <th>3</th>\n",
       "      <td>4</td>\n",
       "      <td>Iceland</td>\n",
       "      <td>7.495</td>\n",
       "      <td>1.343</td>\n",
       "      <td>1.644</td>\n",
       "      <td>0.914</td>\n",
       "      <td>0.677</td>\n",
       "      <td>0.353</td>\n",
       "      <td>0.138</td>\n",
       "    </tr>\n",
       "    <tr>\n",
       "      <th>4</th>\n",
       "      <td>5</td>\n",
       "      <td>Switzerland</td>\n",
       "      <td>7.487</td>\n",
       "      <td>1.420</td>\n",
       "      <td>1.549</td>\n",
       "      <td>0.927</td>\n",
       "      <td>0.660</td>\n",
       "      <td>0.256</td>\n",
       "      <td>0.357</td>\n",
       "    </tr>\n",
       "    <tr>\n",
       "      <th>...</th>\n",
       "      <td>...</td>\n",
       "      <td>...</td>\n",
       "      <td>...</td>\n",
       "      <td>...</td>\n",
       "      <td>...</td>\n",
       "      <td>...</td>\n",
       "      <td>...</td>\n",
       "      <td>...</td>\n",
       "      <td>...</td>\n",
       "    </tr>\n",
       "    <tr>\n",
       "      <th>151</th>\n",
       "      <td>152</td>\n",
       "      <td>Rwanda</td>\n",
       "      <td>3.334</td>\n",
       "      <td>0.359</td>\n",
       "      <td>0.711</td>\n",
       "      <td>0.614</td>\n",
       "      <td>0.555</td>\n",
       "      <td>0.217</td>\n",
       "      <td>0.411</td>\n",
       "    </tr>\n",
       "    <tr>\n",
       "      <th>152</th>\n",
       "      <td>153</td>\n",
       "      <td>Tanzania</td>\n",
       "      <td>3.231</td>\n",
       "      <td>0.476</td>\n",
       "      <td>0.885</td>\n",
       "      <td>0.499</td>\n",
       "      <td>0.417</td>\n",
       "      <td>0.276</td>\n",
       "      <td>0.147</td>\n",
       "    </tr>\n",
       "    <tr>\n",
       "      <th>153</th>\n",
       "      <td>154</td>\n",
       "      <td>Afghanistan</td>\n",
       "      <td>3.203</td>\n",
       "      <td>0.350</td>\n",
       "      <td>0.517</td>\n",
       "      <td>0.361</td>\n",
       "      <td>0.000</td>\n",
       "      <td>0.158</td>\n",
       "      <td>0.025</td>\n",
       "    </tr>\n",
       "    <tr>\n",
       "      <th>154</th>\n",
       "      <td>155</td>\n",
       "      <td>Central African Republic</td>\n",
       "      <td>3.083</td>\n",
       "      <td>0.026</td>\n",
       "      <td>0.000</td>\n",
       "      <td>0.105</td>\n",
       "      <td>0.225</td>\n",
       "      <td>0.235</td>\n",
       "      <td>0.035</td>\n",
       "    </tr>\n",
       "    <tr>\n",
       "      <th>155</th>\n",
       "      <td>156</td>\n",
       "      <td>South Sudan</td>\n",
       "      <td>2.853</td>\n",
       "      <td>0.306</td>\n",
       "      <td>0.575</td>\n",
       "      <td>0.295</td>\n",
       "      <td>0.010</td>\n",
       "      <td>0.202</td>\n",
       "      <td>0.091</td>\n",
       "    </tr>\n",
       "  </tbody>\n",
       "</table>\n",
       "<p>312 rows × 9 columns</p>\n",
       "</div>"
      ],
      "text/plain": [
       "     Overall rank         Country or region  Score  GDP per capita  \\\n",
       "0               1                   Finland  7.632           1.305   \n",
       "1               2                    Norway  7.594           1.456   \n",
       "2               3                   Denmark  7.555           1.351   \n",
       "3               4                   Iceland  7.495           1.343   \n",
       "4               5               Switzerland  7.487           1.420   \n",
       "..            ...                       ...    ...             ...   \n",
       "151           152                    Rwanda  3.334           0.359   \n",
       "152           153                  Tanzania  3.231           0.476   \n",
       "153           154               Afghanistan  3.203           0.350   \n",
       "154           155  Central African Republic  3.083           0.026   \n",
       "155           156               South Sudan  2.853           0.306   \n",
       "\n",
       "     Social support  Healthy life expectancy  Freedom to make life choices  \\\n",
       "0             1.592                    0.874                         0.681   \n",
       "1             1.582                    0.861                         0.686   \n",
       "2             1.590                    0.868                         0.683   \n",
       "3             1.644                    0.914                         0.677   \n",
       "4             1.549                    0.927                         0.660   \n",
       "..              ...                      ...                           ...   \n",
       "151           0.711                    0.614                         0.555   \n",
       "152           0.885                    0.499                         0.417   \n",
       "153           0.517                    0.361                         0.000   \n",
       "154           0.000                    0.105                         0.225   \n",
       "155           0.575                    0.295                         0.010   \n",
       "\n",
       "     Generosity  Perceptions of corruption  \n",
       "0         0.202                      0.393  \n",
       "1         0.286                      0.340  \n",
       "2         0.284                      0.408  \n",
       "3         0.353                      0.138  \n",
       "4         0.256                      0.357  \n",
       "..          ...                        ...  \n",
       "151       0.217                      0.411  \n",
       "152       0.276                      0.147  \n",
       "153       0.158                      0.025  \n",
       "154       0.235                      0.035  \n",
       "155       0.202                      0.091  \n",
       "\n",
       "[312 rows x 9 columns]"
      ]
     },
     "execution_count": 3,
     "metadata": {},
     "output_type": "execute_result"
    }
   ],
   "source": [
    "#2018 ve 2019 yılı dünya üzerindeki en mutlu ülkeler\n",
    "y_2018 = pd.read_csv(\"2018.csv\");\n",
    "y_2019 = pd.read_csv(\"2019.csv\");\n",
    "\n",
    "data = pd.concat([y_2018,y_2019],sort=False)\n",
    "data"
   ]
  },
  {
   "cell_type": "code",
   "execution_count": 5,
   "metadata": {},
   "outputs": [
    {
     "data": {
      "text/plain": [
       "'\\nOverall rank: En mutlu ülkeler sıralaması\\nCountry or region: Ülke veya bölge isimleri\\nScore: Mutluluk skorları\\nGDP per capita: Ülkelerin gelir-giderlerini temsil eden bir değer.\\nSocial support : Sosyal destek\\nHealthy life expectancy : Sağlıklı yaşam imkanı\\nFreedom to make life choices : Özgürlük\\nGenerosity : Cömertlik \\nPerceptions of corruption: Yolsuzluk algıları\\n'"
      ]
     },
     "execution_count": 5,
     "metadata": {},
     "output_type": "execute_result"
    }
   ],
   "source": [
    "\"\"\"\n",
    "Overall rank: En mutlu ülkeler sıralaması\n",
    "Country or region: Ülke veya bölge isimleri\n",
    "Score: Mutluluk skorları\n",
    "GDP per capita: Ülkelerin gelir-giderlerini temsil eden bir değer.\n",
    "Social support : Sosyal destek\n",
    "Healthy life expectancy : Sağlıklı yaşam imkanı\n",
    "Freedom to make life choices : Özgürlük\n",
    "Generosity : Cömertlik \n",
    "Perceptions of corruption: Yolsuzluk algıları\n",
    "\"\"\""
   ]
  },
  {
   "cell_type": "code",
   "execution_count": 4,
   "metadata": {},
   "outputs": [],
   "source": [
    "#Uygun olması için sütun isimlerini değiştiriyoruz.\n",
    "data.rename(columns={\n",
    "    \"Overall rank\": \"rank\",\n",
    "    \"Country or region\": \"country\",\n",
    "    \"Score\": \"score\",\n",
    "    \"GDP per capita\": \"gdp\",\n",
    "    \"Social support\": \"social\",\n",
    "    \"Healthy life expectancy\": \"healthy\",\n",
    "    \"Freedom to make life choices\": \"freedom\",\n",
    "    \"Generosity\": \"generosity\",\n",
    "    \"Perceptions of corruption\": \"corruption\"\n",
    "},inplace=True)\n",
    "del data[\"rank\"]"
   ]
  },
  {
   "cell_type": "code",
   "execution_count": 7,
   "metadata": {},
   "outputs": [
    {
     "data": {
      "text/html": [
       "<div>\n",
       "<style scoped>\n",
       "    .dataframe tbody tr th:only-of-type {\n",
       "        vertical-align: middle;\n",
       "    }\n",
       "\n",
       "    .dataframe tbody tr th {\n",
       "        vertical-align: top;\n",
       "    }\n",
       "\n",
       "    .dataframe thead th {\n",
       "        text-align: right;\n",
       "    }\n",
       "</style>\n",
       "<table border=\"1\" class=\"dataframe\">\n",
       "  <thead>\n",
       "    <tr style=\"text-align: right;\">\n",
       "      <th></th>\n",
       "      <th>count</th>\n",
       "      <th>mean</th>\n",
       "      <th>std</th>\n",
       "      <th>min</th>\n",
       "      <th>25%</th>\n",
       "      <th>50%</th>\n",
       "      <th>75%</th>\n",
       "      <th>max</th>\n",
       "    </tr>\n",
       "  </thead>\n",
       "  <tbody>\n",
       "    <tr>\n",
       "      <th>score</th>\n",
       "      <td>312.0</td>\n",
       "      <td>5.391506</td>\n",
       "      <td>1.114631</td>\n",
       "      <td>2.853</td>\n",
       "      <td>4.51425</td>\n",
       "      <td>5.3795</td>\n",
       "      <td>6.17600</td>\n",
       "      <td>7.769</td>\n",
       "    </tr>\n",
       "    <tr>\n",
       "      <th>gdp</th>\n",
       "      <td>312.0</td>\n",
       "      <td>0.898298</td>\n",
       "      <td>0.394592</td>\n",
       "      <td>0.000</td>\n",
       "      <td>0.60950</td>\n",
       "      <td>0.9600</td>\n",
       "      <td>1.21950</td>\n",
       "      <td>2.096</td>\n",
       "    </tr>\n",
       "    <tr>\n",
       "      <th>social</th>\n",
       "      <td>312.0</td>\n",
       "      <td>1.211026</td>\n",
       "      <td>0.300310</td>\n",
       "      <td>0.000</td>\n",
       "      <td>1.05575</td>\n",
       "      <td>1.2655</td>\n",
       "      <td>1.45750</td>\n",
       "      <td>1.644</td>\n",
       "    </tr>\n",
       "    <tr>\n",
       "      <th>healthy</th>\n",
       "      <td>312.0</td>\n",
       "      <td>0.661295</td>\n",
       "      <td>0.252724</td>\n",
       "      <td>0.000</td>\n",
       "      <td>0.48825</td>\n",
       "      <td>0.6990</td>\n",
       "      <td>0.85800</td>\n",
       "      <td>1.141</td>\n",
       "    </tr>\n",
       "    <tr>\n",
       "      <th>freedom</th>\n",
       "      <td>312.0</td>\n",
       "      <td>0.423538</td>\n",
       "      <td>0.156024</td>\n",
       "      <td>0.000</td>\n",
       "      <td>0.32250</td>\n",
       "      <td>0.4495</td>\n",
       "      <td>0.54025</td>\n",
       "      <td>0.724</td>\n",
       "    </tr>\n",
       "    <tr>\n",
       "      <th>generosity</th>\n",
       "      <td>312.0</td>\n",
       "      <td>0.182926</td>\n",
       "      <td>0.096739</td>\n",
       "      <td>0.000</td>\n",
       "      <td>0.10875</td>\n",
       "      <td>0.1755</td>\n",
       "      <td>0.24500</td>\n",
       "      <td>0.598</td>\n",
       "    </tr>\n",
       "    <tr>\n",
       "      <th>corruption</th>\n",
       "      <td>311.0</td>\n",
       "      <td>0.111299</td>\n",
       "      <td>0.095365</td>\n",
       "      <td>0.000</td>\n",
       "      <td>0.05000</td>\n",
       "      <td>0.0820</td>\n",
       "      <td>0.14050</td>\n",
       "      <td>0.457</td>\n",
       "    </tr>\n",
       "  </tbody>\n",
       "</table>\n",
       "</div>"
      ],
      "text/plain": [
       "            count      mean       std    min      25%     50%      75%    max\n",
       "score       312.0  5.391506  1.114631  2.853  4.51425  5.3795  6.17600  7.769\n",
       "gdp         312.0  0.898298  0.394592  0.000  0.60950  0.9600  1.21950  2.096\n",
       "social      312.0  1.211026  0.300310  0.000  1.05575  1.2655  1.45750  1.644\n",
       "healthy     312.0  0.661295  0.252724  0.000  0.48825  0.6990  0.85800  1.141\n",
       "freedom     312.0  0.423538  0.156024  0.000  0.32250  0.4495  0.54025  0.724\n",
       "generosity  312.0  0.182926  0.096739  0.000  0.10875  0.1755  0.24500  0.598\n",
       "corruption  311.0  0.111299  0.095365  0.000  0.05000  0.0820  0.14050  0.457"
      ]
     },
     "execution_count": 7,
     "metadata": {},
     "output_type": "execute_result"
    }
   ],
   "source": [
    "data.describe().T"
   ]
  },
  {
   "cell_type": "code",
   "execution_count": 8,
   "metadata": {},
   "outputs": [
    {
     "name": "stdout",
     "output_type": "stream",
     "text": [
      "<class 'pandas.core.frame.DataFrame'>\n",
      "Int64Index: 312 entries, 0 to 155\n",
      "Data columns (total 8 columns):\n",
      " #   Column      Non-Null Count  Dtype  \n",
      "---  ------      --------------  -----  \n",
      " 0   country     312 non-null    object \n",
      " 1   score       312 non-null    float64\n",
      " 2   gdp         312 non-null    float64\n",
      " 3   social      312 non-null    float64\n",
      " 4   healthy     312 non-null    float64\n",
      " 5   freedom     312 non-null    float64\n",
      " 6   generosity  312 non-null    float64\n",
      " 7   corruption  311 non-null    float64\n",
      "dtypes: float64(7), object(1)\n",
      "memory usage: 21.9+ KB\n"
     ]
    }
   ],
   "source": [
    "data.info()"
   ]
  },
  {
   "cell_type": "code",
   "execution_count": null,
   "metadata": {},
   "outputs": [],
   "source": []
  },
  {
   "cell_type": "code",
   "execution_count": 9,
   "metadata": {},
   "outputs": [
    {
     "data": {
      "text/plain": [
       "Index(['corruption'], dtype='object')"
      ]
     },
     "execution_count": 9,
     "metadata": {},
     "output_type": "execute_result"
    }
   ],
   "source": [
    "data.columns[data.isnull().any()]"
   ]
  },
  {
   "cell_type": "code",
   "execution_count": 10,
   "metadata": {},
   "outputs": [
    {
     "data": {
      "text/plain": [
       "country       0\n",
       "score         0\n",
       "gdp           0\n",
       "social        0\n",
       "healthy       0\n",
       "freedom       0\n",
       "generosity    0\n",
       "corruption    1\n",
       "dtype: int64"
      ]
     },
     "execution_count": 10,
     "metadata": {},
     "output_type": "execute_result"
    }
   ],
   "source": [
    "data.isnull().sum()"
   ]
  },
  {
   "cell_type": "code",
   "execution_count": 11,
   "metadata": {},
   "outputs": [
    {
     "data": {
      "text/html": [
       "<div>\n",
       "<style scoped>\n",
       "    .dataframe tbody tr th:only-of-type {\n",
       "        vertical-align: middle;\n",
       "    }\n",
       "\n",
       "    .dataframe tbody tr th {\n",
       "        vertical-align: top;\n",
       "    }\n",
       "\n",
       "    .dataframe thead th {\n",
       "        text-align: right;\n",
       "    }\n",
       "</style>\n",
       "<table border=\"1\" class=\"dataframe\">\n",
       "  <thead>\n",
       "    <tr style=\"text-align: right;\">\n",
       "      <th></th>\n",
       "      <th>country</th>\n",
       "      <th>score</th>\n",
       "      <th>gdp</th>\n",
       "      <th>social</th>\n",
       "      <th>healthy</th>\n",
       "      <th>freedom</th>\n",
       "      <th>generosity</th>\n",
       "      <th>corruption</th>\n",
       "    </tr>\n",
       "  </thead>\n",
       "  <tbody>\n",
       "    <tr>\n",
       "      <th>19</th>\n",
       "      <td>United Arab Emirates</td>\n",
       "      <td>6.774</td>\n",
       "      <td>2.096</td>\n",
       "      <td>0.776</td>\n",
       "      <td>0.67</td>\n",
       "      <td>0.284</td>\n",
       "      <td>0.186</td>\n",
       "      <td>NaN</td>\n",
       "    </tr>\n",
       "  </tbody>\n",
       "</table>\n",
       "</div>"
      ],
      "text/plain": [
       "                 country  score    gdp  social  healthy  freedom  generosity  \\\n",
       "19  United Arab Emirates  6.774  2.096   0.776     0.67    0.284       0.186   \n",
       "\n",
       "    corruption  \n",
       "19         NaN  "
      ]
     },
     "execution_count": 11,
     "metadata": {},
     "output_type": "execute_result"
    }
   ],
   "source": [
    "data[data[\"corruption\"].isnull()]"
   ]
  },
  {
   "cell_type": "code",
   "execution_count": 5,
   "metadata": {},
   "outputs": [
    {
     "data": {
      "text/html": [
       "<div>\n",
       "<style scoped>\n",
       "    .dataframe tbody tr th:only-of-type {\n",
       "        vertical-align: middle;\n",
       "    }\n",
       "\n",
       "    .dataframe tbody tr th {\n",
       "        vertical-align: top;\n",
       "    }\n",
       "\n",
       "    .dataframe thead th {\n",
       "        text-align: right;\n",
       "    }\n",
       "</style>\n",
       "<table border=\"1\" class=\"dataframe\">\n",
       "  <thead>\n",
       "    <tr style=\"text-align: right;\">\n",
       "      <th></th>\n",
       "      <th>country</th>\n",
       "      <th>score</th>\n",
       "      <th>gdp</th>\n",
       "      <th>social</th>\n",
       "      <th>healthy</th>\n",
       "      <th>freedom</th>\n",
       "      <th>generosity</th>\n",
       "      <th>corruption</th>\n",
       "    </tr>\n",
       "  </thead>\n",
       "  <tbody>\n",
       "  </tbody>\n",
       "</table>\n",
       "</div>"
      ],
      "text/plain": [
       "Empty DataFrame\n",
       "Columns: [country, score, gdp, social, healthy, freedom, generosity, corruption]\n",
       "Index: []"
      ]
     },
     "execution_count": 5,
     "metadata": {},
     "output_type": "execute_result"
    }
   ],
   "source": [
    "avg_data_corruption = data[data[\"score\"] > 6.774].mean().corruption\n",
    "data.loc[data[\"corruption\"].isnull(),[\"corruption\"]] = avg_data_corruption\n",
    "data[data[\"corruption\"].isnull()] #filling the empty column"
   ]
  },
  {
   "cell_type": "code",
   "execution_count": 6,
   "metadata": {},
   "outputs": [
    {
     "data": {
      "text/html": [
       "<div>\n",
       "<style scoped>\n",
       "    .dataframe tbody tr th:only-of-type {\n",
       "        vertical-align: middle;\n",
       "    }\n",
       "\n",
       "    .dataframe tbody tr th {\n",
       "        vertical-align: top;\n",
       "    }\n",
       "\n",
       "    .dataframe thead th {\n",
       "        text-align: right;\n",
       "    }\n",
       "</style>\n",
       "<table border=\"1\" class=\"dataframe\">\n",
       "  <thead>\n",
       "    <tr style=\"text-align: right;\">\n",
       "      <th></th>\n",
       "      <th>score</th>\n",
       "      <th>gdp</th>\n",
       "      <th>social</th>\n",
       "      <th>healthy</th>\n",
       "      <th>freedom</th>\n",
       "      <th>generosity</th>\n",
       "      <th>corruption</th>\n",
       "    </tr>\n",
       "  </thead>\n",
       "  <tbody>\n",
       "    <tr>\n",
       "      <th>0</th>\n",
       "      <td>7.632</td>\n",
       "      <td>1.305</td>\n",
       "      <td>1.592</td>\n",
       "      <td>0.874</td>\n",
       "      <td>0.681</td>\n",
       "      <td>0.202</td>\n",
       "      <td>0.393</td>\n",
       "    </tr>\n",
       "    <tr>\n",
       "      <th>1</th>\n",
       "      <td>7.594</td>\n",
       "      <td>1.456</td>\n",
       "      <td>1.582</td>\n",
       "      <td>0.861</td>\n",
       "      <td>0.686</td>\n",
       "      <td>0.286</td>\n",
       "      <td>0.340</td>\n",
       "    </tr>\n",
       "    <tr>\n",
       "      <th>2</th>\n",
       "      <td>7.555</td>\n",
       "      <td>1.351</td>\n",
       "      <td>1.590</td>\n",
       "      <td>0.868</td>\n",
       "      <td>0.683</td>\n",
       "      <td>0.284</td>\n",
       "      <td>0.408</td>\n",
       "    </tr>\n",
       "    <tr>\n",
       "      <th>3</th>\n",
       "      <td>7.495</td>\n",
       "      <td>1.343</td>\n",
       "      <td>1.644</td>\n",
       "      <td>0.914</td>\n",
       "      <td>0.677</td>\n",
       "      <td>0.353</td>\n",
       "      <td>0.138</td>\n",
       "    </tr>\n",
       "    <tr>\n",
       "      <th>4</th>\n",
       "      <td>7.487</td>\n",
       "      <td>1.420</td>\n",
       "      <td>1.549</td>\n",
       "      <td>0.927</td>\n",
       "      <td>0.660</td>\n",
       "      <td>0.256</td>\n",
       "      <td>0.357</td>\n",
       "    </tr>\n",
       "  </tbody>\n",
       "</table>\n",
       "</div>"
      ],
      "text/plain": [
       "   score    gdp  social  healthy  freedom  generosity  corruption\n",
       "0  7.632  1.305   1.592    0.874    0.681       0.202       0.393\n",
       "1  7.594  1.456   1.582    0.861    0.686       0.286       0.340\n",
       "2  7.555  1.351   1.590    0.868    0.683       0.284       0.408\n",
       "3  7.495  1.343   1.644    0.914    0.677       0.353       0.138\n",
       "4  7.487  1.420   1.549    0.927    0.660       0.256       0.357"
      ]
     },
     "execution_count": 6,
     "metadata": {},
     "output_type": "execute_result"
    }
   ],
   "source": [
    "df = data.copy()\n",
    "df = df.select_dtypes(include=[\"float64\",\"int64\"])\n",
    "df.head()\n"
   ]
  },
  {
   "cell_type": "code",
   "execution_count": 6,
   "metadata": {},
   "outputs": [
    {
     "data": {
      "image/png": "[encoded data removed]",
      "text/plain": [
       "<Figure size 432x288 with 1 Axes>"
      ]
     },
     "metadata": {},
     "output_type": "display_data"
    },
    {
     "data": {
      "image/png": "[encoded data removed]",
      "text/plain": [
       "<Figure size 432x288 with 1 Axes>"
      ]
     },
     "metadata": {},
     "output_type": "display_data"
    },
    {
     "data": {
      "image/png": "[encoded data removed]",
      "text/plain": [
       "<Figure size 432x288 with 1 Axes>"
      ]
     },
     "metadata": {},
     "output_type": "display_data"
    },
    {
     "data": {
      "image/png": "[encoded data removed]",
      "text/plain": [
       "<Figure size 432x288 with 1 Axes>"
      ]
     },
     "metadata": {},
     "output_type": "display_data"
    },
    {
     "data": {
      "image/png": "[encoded data removed]",
      "text/plain": [
       "<Figure size 432x288 with 1 Axes>"
      ]
     },
     "metadata": {},
     "output_type": "display_data"
    },
    {
     "data": {
      "image/png": "[encoded data removed]",
      "text/plain": [
       "<Figure size 432x288 with 1 Axes>"
      ]
     },
     "metadata": {},
     "output_type": "display_data"
    },
    {
     "data": {
      "image/png": "[encoded data removed]",
      "text/plain": [
       "<Figure size 432x288 with 1 Axes>"
      ]
     },
     "metadata": {},
     "output_type": "display_data"
    }
   ],
   "source": [
    "column_list=[\"score\",\"gdp\",\"social\",\"healthy\",\"freedom\",\"generosity\",\"corruption\"]\n",
    "for col in column_list:\n",
    "    sns.boxplot(x = df[col])\n",
    "    plt.xlabel(col)\n",
    "    plt.show()"
   ]
  },
  {
   "cell_type": "code",
   "execution_count": 7,
   "metadata": {},
   "outputs": [
    {
     "name": "stdout",
     "output_type": "stream",
     "text": [
      "lower bound is -0.08687499999999997\n",
      "upper bound is 0.27812499999999996\n",
      "Q1:  0.05\n",
      "Q3:  0.14125\n"
     ]
    }
   ],
   "source": [
    "#\"social\" ve \"corruption\" sütunlarında aykırılar var. Bu durum veri setimizi eğitirken \n",
    "#bizi negatif bir şekilde etkileyebilir.\n",
    "#corruption\n",
    "df_table = df[\"corruption\"]\n",
    "\n",
    "Q1 = df_table.quantile(0.25)\n",
    "Q3 = df_table.quantile(0.75)\n",
    "IQR = Q3 - Q1\n",
    "\n",
    "lower_bound = Q1 - 1.5*IQR\n",
    "upper_bound = Q3 + 1.5*IQR\n",
    "print(\"lower bound is \" + str(lower_bound))\n",
    "print(\"upper bound is \" + str(upper_bound))\n",
    "print(\"Q1: \", Q1)\n",
    "print(\"Q3: \", Q3)"
   ]
  },
  {
   "cell_type": "code",
   "execution_count": 8,
   "metadata": {},
   "outputs": [
    {
     "data": {
      "text/plain": [
       "0       True\n",
       "1       True\n",
       "2       True\n",
       "3      False\n",
       "4       True\n",
       "       ...  \n",
       "151     True\n",
       "152    False\n",
       "153    False\n",
       "154    False\n",
       "155    False\n",
       "Name: corruption, Length: 312, dtype: bool"
      ]
     },
     "execution_count": 8,
     "metadata": {},
     "output_type": "execute_result"
    }
   ],
   "source": [
    "outliers_vector = (df_table < (lower_bound)) | (df_table > (upper_bound))\n",
    "outliers_vector"
   ]
  },
  {
   "cell_type": "code",
   "execution_count": 9,
   "metadata": {},
   "outputs": [
    {
     "data": {
      "text/plain": [
       "30"
      ]
     },
     "execution_count": 9,
     "metadata": {},
     "output_type": "execute_result"
    }
   ],
   "source": [
    "outliers_vector.sum()"
   ]
  },
  {
   "cell_type": "code",
   "execution_count": 10,
   "metadata": {},
   "outputs": [
    {
     "data": {
      "text/plain": [
       "array([  0,   1,   2,   4,   5,   6,   7,   8,   9,  13,  14,  16,  33,\n",
       "        75,  97, 150,   0,   1,   2,   4,   5,   6,   7,   8,  10,  13,\n",
       "        15,  33,  75, 151], dtype=int64)"
      ]
     },
     "execution_count": 10,
     "metadata": {},
     "output_type": "execute_result"
    }
   ],
   "source": [
    "outliers_vector = df_table[outliers_vector]\n",
    "outliers_vector.index.values"
   ]
  },
  {
   "cell_type": "code",
   "execution_count": 11,
   "metadata": {},
   "outputs": [
    {
     "data": {
      "text/plain": [
       "0      0.111794\n",
       "1      0.111794\n",
       "2      0.111794\n",
       "4      0.111794\n",
       "5      0.111794\n",
       "6      0.111794\n",
       "7      0.111794\n",
       "8      0.111794\n",
       "9      0.111794\n",
       "13     0.111794\n",
       "14     0.111794\n",
       "16     0.111794\n",
       "33     0.111794\n",
       "75     0.111794\n",
       "97     0.111794\n",
       "150    0.111794\n",
       "0      0.111794\n",
       "1      0.111794\n",
       "2      0.111794\n",
       "4      0.111794\n",
       "5      0.111794\n",
       "6      0.111794\n",
       "7      0.111794\n",
       "8      0.111794\n",
       "10     0.111794\n",
       "13     0.111794\n",
       "15     0.111794\n",
       "33     0.111794\n",
       "75     0.111794\n",
       "151    0.111794\n",
       "Name: corruption, dtype: float64"
      ]
     },
     "execution_count": 11,
     "metadata": {},
     "output_type": "execute_result"
    }
   ],
   "source": [
    "#Bu data set için dataları silmek uygun bir işlem değil. Bu yüzden aykırıları ortalama değeriyle dolduruyoruz.\n",
    "df_table = data.copy()\n",
    "df_table[\"corruption\"].iloc[outliers_vector.index.values] = df_table[\"corruption\"].mean()\n",
    "df_table[\"corruption\"].iloc[outliers_vector.index.values]"
   ]
  },
  {
   "cell_type": "code",
   "execution_count": 12,
   "metadata": {},
   "outputs": [],
   "source": [
    "data = df_table"
   ]
  },
  {
   "cell_type": "markdown",
   "metadata": {},
   "source": [
    "BASİT DOĞRUSAL REGRESYON"
   ]
  },
  {
   "cell_type": "code",
   "execution_count": 21,
   "metadata": {},
   "outputs": [
    {
     "data": {
      "image/png": "[encoded data removed]",
      "text/plain": [
       "<Figure size 432x432 with 3 Axes>"
      ]
     },
     "metadata": {},
     "output_type": "display_data"
    }
   ],
   "source": [
    "#gelir-gider durumuyla skor arasındaki ilişkiye bakalım.\"gdp\",\"score\".\n",
    "sns.jointplot(x=\"gdp\",y=\"score\",data=df_table,kind=\"reg\")\n",
    "plt.show()"
   ]
  },
  {
   "cell_type": "code",
   "execution_count": 7,
   "metadata": {},
   "outputs": [
    {
     "data": {
      "text/plain": [
       "<bound method NDFrame.head of        gdp\n",
       "0    1.305\n",
       "1    1.456\n",
       "2    1.351\n",
       "3    1.343\n",
       "4    1.420\n",
       "..     ...\n",
       "151  0.359\n",
       "152  0.476\n",
       "153  0.350\n",
       "154  0.026\n",
       "155  0.306\n",
       "\n",
       "[312 rows x 1 columns]>"
      ]
     },
     "execution_count": 7,
     "metadata": {},
     "output_type": "execute_result"
    }
   ],
   "source": [
    "#İki değişken arasındaki ilişkiyi analiz etmek için lineer regresyon istatistik modelini kullanacağız.\n",
    "from sklearn.linear_model import LinearRegression\n",
    "\n",
    "X = data[[\"gdp\"]]\n",
    "X.head"
   ]
  },
  {
   "cell_type": "code",
   "execution_count": 23,
   "metadata": {},
   "outputs": [
    {
     "data": {
      "text/plain": [
       "<bound method NDFrame.head of      score\n",
       "0    7.632\n",
       "1    7.594\n",
       "2    7.555\n",
       "3    7.495\n",
       "4    7.487\n",
       "..     ...\n",
       "151  3.334\n",
       "152  3.231\n",
       "153  3.203\n",
       "154  3.083\n",
       "155  2.853\n",
       "\n",
       "[312 rows x 1 columns]>"
      ]
     },
     "execution_count": 23,
     "metadata": {},
     "output_type": "execute_result"
    }
   ],
   "source": [
    "y = data[[\"score\"]]\n",
    "y.head"
   ]
  },
  {
   "cell_type": "code",
   "execution_count": 24,
   "metadata": {},
   "outputs": [
    {
     "name": "stdout",
     "output_type": "stream",
     "text": [
      "intercept:  [3.36665334]\n",
      "coef:  [[2.25409931]]\n",
      "rscore.  0.6367680251195655\n"
     ]
    }
   ],
   "source": [
    "reg = LinearRegression()\n",
    "model = reg.fit(X,y)\n",
    "print(\"intercept: \", model.intercept_)\n",
    "print(\"coef: \", model.coef_)\n",
    "print(\"rscore. \", model.score(X,y))"
   ]
  },
  {
   "cell_type": "code",
   "execution_count": 95,
   "metadata": {},
   "outputs": [],
   "source": [
    "#rscore'dan görüleceği gibi gdp veri setinin %63'ünü açıklıyor."
   ]
  },
  {
   "cell_type": "code",
   "execution_count": 25,
   "metadata": {},
   "outputs": [
    {
     "data": {
      "image/png": "[encoded data removed]",
      "text/plain": [
       "<Figure size 864x432 with 1 Axes>"
      ]
     },
     "metadata": {},
     "output_type": "display_data"
    }
   ],
   "source": [
    "plt.figure(figsize=(12,6))\n",
    "g = sns.regplot(x=data[\"gdp\"],y=data[\"score\"],ci=None,scatter_kws = {'color':'r','s':9})\n",
    "g.set_title(\"Model Equation\")\n",
    "g.set_ylabel(\"score\")\n",
    "g.set_xlabel(\"gdb\")\n",
    "plt.show()"
   ]
  },
  {
   "cell_type": "code",
   "execution_count": 26,
   "metadata": {},
   "outputs": [
    {
     "name": "stdout",
     "output_type": "stream",
     "text": [
      "The happiness value of the country with a gdp value of  [0.25] :  [[3.93017816]]\n",
      "The happiness value of the country with a gdp value of  [0.5] :  [[4.49370299]]\n",
      "The happiness value of the country with a gdp value of  [0.75] :  [[5.05722782]]\n",
      "The happiness value of the country with a gdp value of  [1.0] :  [[5.62075264]]\n",
      "The happiness value of the country with a gdp value of  [1.25] :  [[6.18427747]]\n",
      "The happiness value of the country with a gdp value of  [1.5] :  [[6.7478023]]\n"
     ]
    }
   ],
   "source": [
    "#Farklı gdp değerlerinde ülkelerin mutluluk değerleri ne kadar tahmin etmeye çalışıyoruz.\n",
    "gdb_list = [[0.25],[0.50],[0.75],[1.00],[1.25],[1.50]]\n",
    "model.predict(gdb_list)\n",
    "for g in gdb_list:\n",
    "    print(\"The happiness value of the country with a gdp value of \",g,\": \",model.predict([g]))"
   ]
  },
  {
   "cell_type": "code",
   "execution_count": 59,
   "metadata": {},
   "outputs": [],
   "source": [
    "#Diğer değerler için de teker teker tahminler yapmak bizi uğraştıracağı için bir fonksiyon oluşturuyoruz.\n",
    "def linear_reg(col,text,prdctn):\n",
    "    #Tahmin ve grafikte gösterimi.\n",
    "    sns.jointplot(x=col,y=\"score\",data=df_table,kind=\"reg\")\n",
    "    plt.show()\n",
    "    \n",
    "    X = data[[col]] \n",
    "    y = data[[\"score\"]]\n",
    "    reg = LinearRegression()\n",
    "    model = reg.fit(X,y)\n",
    "    plt.show()\n",
    "    \n",
    "    plt.figure(figsize=(12,6))\n",
    "    g = sns.regplot(x=data[col],y=data[\"score\"],ci=None,scatter_kws={'color': 'r','s':12})\n",
    "    g.set_title(\"Tahmin Modeli\")\n",
    "    g.set_xlabel(col)\n",
    "    g.set_ylabel(\"score\")\n",
    "    print(text,\" : \",model.predict([[prdctn]]))\n",
    "    "
   ]
  },
  {
   "cell_type": "code",
   "execution_count": 60,
   "metadata": {},
   "outputs": [
    {
     "data": {
      "image/png": "[encoded data removed]",
      "text/plain": [
       "<Figure size 432x432 with 3 Axes>"
      ]
     },
     "metadata": {},
     "output_type": "display_data"
    },
    {
     "name": "stdout",
     "output_type": "stream",
     "text": [
      "Sosyal destek değeri 2 olan ülkenin mutluluk skoru:  :  [[7.62022176]]\n"
     ]
    },
    {
     "data": {
      "image/png": "[encoded data removed]",
      "text/plain": [
       "<Figure size 864x432 with 1 Axes>"
      ]
     },
     "metadata": {},
     "output_type": "display_data"
    }
   ],
   "source": [
    "linear_reg(\"social\",\"Sosyal destek değeri 2 olan ülkenin mutluluk skoru:\",2)"
   ]
  },
  {
   "cell_type": "code",
   "execution_count": 61,
   "metadata": {},
   "outputs": [
    {
     "data": {
      "image/png": "[encoded data removed]",
      "text/plain": [
       "<Figure size 432x432 with 3 Axes>"
      ]
     },
     "metadata": {},
     "output_type": "display_data"
    },
    {
     "name": "stdout",
     "output_type": "stream",
     "text": [
      "Sağlık yaşam olanak değeri 1.20 olan ülkenin mutluluk skoru:  :  [[7.18742031]]\n"
     ]
    },
    {
     "data": {
      "image/png": "[encoded data removed]",
      "text/plain": [
       "<Figure size 864x432 with 1 Axes>"
      ]
     },
     "metadata": {},
     "output_type": "display_data"
    }
   ],
   "source": [
    "#Sağlık imkanı ile ilişkisi\n",
    "linear_reg(\"healthy\",\"Sağlık yaşam olanak değeri 1.20 olan ülkenin mutluluk skoru:\",1.20)"
   ]
  },
  {
   "cell_type": "code",
   "execution_count": 63,
   "metadata": {},
   "outputs": [
    {
     "data": {
      "image/png": "[encoded data removed]",
      "text/plain": [
       "<Figure size 432x432 with 3 Axes>"
      ]
     },
     "metadata": {},
     "output_type": "display_data"
    },
    {
     "name": "stdout",
     "output_type": "stream",
     "text": [
      "Özgürlük puan 0.9 olan ülkenin mutluluk skoru:  :  [[7.22922514]]\n"
     ]
    },
    {
     "data": {
      "image/png": "[encoded data removed]",
      "text/plain": [
       "<Figure size 864x432 with 1 Axes>"
      ]
     },
     "metadata": {},
     "output_type": "display_data"
    }
   ],
   "source": [
    "#Özgürlükle ilişkisi\n",
    "linear_reg(\"freedom\",\"Özgürlük puan 0.9 olan ülkenin mutluluk skoru:\",0.9)"
   ]
  },
  {
   "cell_type": "code",
   "execution_count": 64,
   "metadata": {},
   "outputs": [
    {
     "data": {
      "image/png": "[encoded data removed]",
      "text/plain": [
       "<Figure size 432x432 with 3 Axes>"
      ]
     },
     "metadata": {},
     "output_type": "display_data"
    },
    {
     "name": "stdout",
     "output_type": "stream",
     "text": [
      "Yolsuzluk puanı 0.45 olan ülkenin mutluluk skoru:  :  [[6.92300931]]\n"
     ]
    },
    {
     "data": {
      "image/png": "[encoded data removed]",
      "text/plain": [
       "<Figure size 864x432 with 1 Axes>"
      ]
     },
     "metadata": {},
     "output_type": "display_data"
    }
   ],
   "source": [
    "#Yolsuzlukla ilişkisi\n",
    "linear_reg(\"corruption\",\"Yolsuzluk puanı 0.45 olan ülkenin mutluluk skoru:\",0.45)"
   ]
  },
  {
   "cell_type": "code",
   "execution_count": 65,
   "metadata": {},
   "outputs": [],
   "source": [
    "#Yolsuzluğun mutluluğa etkisi hakkında direk bir bağlantı kuramıyoruz ama en büyük yolsuzluklar \n",
    "#mutluluk skoru yüksek(gelişmiş ülkeler de diyebiliriz) ülkelerde yaşanıyor diyebiliriz."
   ]
  },
  {
   "cell_type": "markdown",
   "metadata": {},
   "source": [
    "ÇOKLU DOĞRUSAL REGRESYON"
   ]
  },
  {
   "cell_type": "code",
   "execution_count": 2,
   "metadata": {},
   "outputs": [],
   "source": [
    "#Asıl amaç bağımlı ve bağımsız değişkenler arasındaki ilişkiyi açıklayan lineer fonksiyonu bulmak."
   ]
  },
  {
   "cell_type": "code",
   "execution_count": 14,
   "metadata": {},
   "outputs": [
    {
     "data": {
      "text/html": [
       "<table class=\"simpletable\">\n",
       "<caption>OLS Regression Results</caption>\n",
       "<tr>\n",
       "  <th>Dep. Variable:</th>          <td>score</td>      <th>  R-squared (uncentered):</th>      <td>   0.986</td> \n",
       "</tr>\n",
       "<tr>\n",
       "  <th>Model:</th>                   <td>OLS</td>       <th>  Adj. R-squared (uncentered):</th> <td>   0.986</td> \n",
       "</tr>\n",
       "<tr>\n",
       "  <th>Method:</th>             <td>Least Squares</td>  <th>  F-statistic:       </th>          <td>   3622.</td> \n",
       "</tr>\n",
       "<tr>\n",
       "  <th>Date:</th>             <td>Tue, 15 Dec 2020</td> <th>  Prob (F-statistic):</th>          <td>7.57e-281</td>\n",
       "</tr>\n",
       "<tr>\n",
       "  <th>Time:</th>                 <td>18:50:22</td>     <th>  Log-Likelihood:    </th>          <td> -307.69</td> \n",
       "</tr>\n",
       "<tr>\n",
       "  <th>No. Observations:</th>      <td>   312</td>      <th>  AIC:               </th>          <td>   627.4</td> \n",
       "</tr>\n",
       "<tr>\n",
       "  <th>Df Residuals:</th>          <td>   306</td>      <th>  BIC:               </th>          <td>   649.8</td> \n",
       "</tr>\n",
       "<tr>\n",
       "  <th>Df Model:</th>              <td>     6</td>      <th>                     </th>              <td> </td>    \n",
       "</tr>\n",
       "<tr>\n",
       "  <th>Covariance Type:</th>      <td>nonrobust</td>    <th>                     </th>              <td> </td>    \n",
       "</tr>\n",
       "</table>\n",
       "<table class=\"simpletable\">\n",
       "<tr>\n",
       "       <td></td>         <th>coef</th>     <th>std err</th>      <th>t</th>      <th>P>|t|</th>  <th>[0.025</th>    <th>0.975]</th>  \n",
       "</tr>\n",
       "<tr>\n",
       "  <th>gdp</th>        <td>    0.5774</td> <td>    0.178</td> <td>    3.238</td> <td> 0.001</td> <td>    0.226</td> <td>    0.928</td>\n",
       "</tr>\n",
       "<tr>\n",
       "  <th>social</th>     <td>    2.2624</td> <td>    0.153</td> <td>   14.780</td> <td> 0.000</td> <td>    1.961</td> <td>    2.564</td>\n",
       "</tr>\n",
       "<tr>\n",
       "  <th>healthy</th>    <td>    1.2506</td> <td>    0.260</td> <td>    4.805</td> <td> 0.000</td> <td>    0.738</td> <td>    1.763</td>\n",
       "</tr>\n",
       "<tr>\n",
       "  <th>freedom</th>    <td>    1.8640</td> <td>    0.289</td> <td>    6.447</td> <td> 0.000</td> <td>    1.295</td> <td>    2.433</td>\n",
       "</tr>\n",
       "<tr>\n",
       "  <th>generosity</th> <td>    2.0380</td> <td>    0.399</td> <td>    5.109</td> <td> 0.000</td> <td>    1.253</td> <td>    2.823</td>\n",
       "</tr>\n",
       "<tr>\n",
       "  <th>corruption</th> <td>    0.5464</td> <td>    0.468</td> <td>    1.169</td> <td> 0.243</td> <td>   -0.374</td> <td>    1.466</td>\n",
       "</tr>\n",
       "</table>\n",
       "<table class=\"simpletable\">\n",
       "<tr>\n",
       "  <th>Omnibus:</th>       <td> 6.324</td> <th>  Durbin-Watson:     </th> <td>   2.057</td>\n",
       "</tr>\n",
       "<tr>\n",
       "  <th>Prob(Omnibus):</th> <td> 0.042</td> <th>  Jarque-Bera (JB):  </th> <td>   7.204</td>\n",
       "</tr>\n",
       "<tr>\n",
       "  <th>Skew:</th>          <td> 0.212</td> <th>  Prob(JB):          </th> <td>  0.0273</td>\n",
       "</tr>\n",
       "<tr>\n",
       "  <th>Kurtosis:</th>      <td> 3.612</td> <th>  Cond. No.          </th> <td>    24.4</td>\n",
       "</tr>\n",
       "</table><br/><br/>Notes:<br/>[1] R² is computed without centering (uncentered) since the model does not contain a constant.<br/>[2] Standard Errors assume that the covariance matrix of the errors is correctly specified."
      ],
      "text/plain": [
       "<class 'statsmodels.iolib.summary.Summary'>\n",
       "\"\"\"\n",
       "                                 OLS Regression Results                                \n",
       "=======================================================================================\n",
       "Dep. Variable:                  score   R-squared (uncentered):                   0.986\n",
       "Model:                            OLS   Adj. R-squared (uncentered):              0.986\n",
       "Method:                 Least Squares   F-statistic:                              3622.\n",
       "Date:                Tue, 15 Dec 2020   Prob (F-statistic):                   7.57e-281\n",
       "Time:                        18:50:22   Log-Likelihood:                         -307.69\n",
       "No. Observations:                 312   AIC:                                      627.4\n",
       "Df Residuals:                     306   BIC:                                      649.8\n",
       "Df Model:                           6                                                  \n",
       "Covariance Type:            nonrobust                                                  \n",
       "==============================================================================\n",
       "                 coef    std err          t      P>|t|      [0.025      0.975]\n",
       "------------------------------------------------------------------------------\n",
       "gdp            0.5774      0.178      3.238      0.001       0.226       0.928\n",
       "social         2.2624      0.153     14.780      0.000       1.961       2.564\n",
       "healthy        1.2506      0.260      4.805      0.000       0.738       1.763\n",
       "freedom        1.8640      0.289      6.447      0.000       1.295       2.433\n",
       "generosity     2.0380      0.399      5.109      0.000       1.253       2.823\n",
       "corruption     0.5464      0.468      1.169      0.243      -0.374       1.466\n",
       "==============================================================================\n",
       "Omnibus:                        6.324   Durbin-Watson:                   2.057\n",
       "Prob(Omnibus):                  0.042   Jarque-Bera (JB):                7.204\n",
       "Skew:                           0.212   Prob(JB):                       0.0273\n",
       "Kurtosis:                       3.612   Cond. No.                         24.4\n",
       "==============================================================================\n",
       "\n",
       "Notes:\n",
       "[1] R² is computed without centering (uncentered) since the model does not contain a constant.\n",
       "[2] Standard Errors assume that the covariance matrix of the errors is correctly specified.\n",
       "\"\"\""
      ]
     },
     "execution_count": 14,
     "metadata": {},
     "output_type": "execute_result"
    }
   ],
   "source": [
    "import statsmodels.api as sms\n",
    "\n",
    "X = df.drop(\"score\",axis=1)\n",
    "y = df[\"score\"]\n",
    "\n",
    "# OLS(bağımlı,bağımsız)\n",
    "lm = sms.OLS(y,X)\n",
    "model = lm.fit()\n",
    "model.summary()"
   ]
  },
  {
   "cell_type": "markdown",
   "metadata": {},
   "source": [
    "R-squared: Bağımlı değişkenlerdeki değişimi açıklayan bağımsız değişken yüzdesi.\n",
    "coef: Katsayılar.\n",
    "\n",
    "Yorum olarak şunları söyleyebiliriz;\n",
    "Eğer ki 'gdp' değeri 1 artarsa skorda 0.5774 artar.\n",
    "Eğer ki 'social' değeri 1 artarsa skorda 2.2624 artar."
   ]
  },
  {
   "cell_type": "code",
   "execution_count": 15,
   "metadata": {},
   "outputs": [
    {
     "name": "stdout",
     "output_type": "stream",
     "text": [
      "sabit:  1.8541077926951255\n",
      "katsayılar:  [0.929921   1.06504217 0.94321492 1.40426054 0.52070628 0.88114008]\n"
     ]
    }
   ],
   "source": [
    "#scikit learn ile model yapma.\n",
    "\n",
    "lm = LinearRegression()\n",
    "model = lm.fit(X,y)\n",
    "print(\"sabit: \",model.intercept_)\n",
    "print(\"katsayılar: \",model.coef_)"
   ]
  },
  {
   "cell_type": "code",
   "execution_count": 16,
   "metadata": {},
   "outputs": [
    {
     "data": {
      "text/plain": [
       "array([9.99250222])"
      ]
     },
     "execution_count": 16,
     "metadata": {},
     "output_type": "execute_result"
    }
   ],
   "source": [
    "#TAHMİN\n",
    "#Score = 0.929921*gdp + 1.06504217*social + 0.94321492*healthy + 1.40426054*freedom \n",
    "#+ 0.52070628*generosity + 0.88114008*corruption\n",
    "\n",
    "new_data = [[1],[2],[1.25],[1.75],[1.50],[0.75]]\n",
    "new_data = pd.DataFrame(new_data).T\n",
    "model.predict(new_data)"
   ]
  },
  {
   "cell_type": "code",
   "execution_count": 17,
   "metadata": {},
   "outputs": [
    {
     "name": "stdout",
     "output_type": "stream",
     "text": [
      "MSE:  0.26768307316350287\n",
      "RMSE:  0.5173809748758673\n"
     ]
    }
   ],
   "source": [
    "#hata sayısını hesaplıyoruz.\n",
    "from sklearn.metrics import mean_squared_error\n",
    "\n",
    "MSE = mean_squared_error(y,model.predict(X))\n",
    "RMSE = np.sqrt(MSE)\n",
    "\n",
    "print(\"MSE: \", MSE)\n",
    "print(\"RMSE: \", RMSE)"
   ]
  },
  {
   "cell_type": "markdown",
   "metadata": {},
   "source": [
    "Model Tuning"
   ]
  },
  {
   "cell_type": "code",
   "execution_count": 18,
   "metadata": {},
   "outputs": [
    {
     "data": {
      "text/html": [
       "<div>\n",
       "<style scoped>\n",
       "    .dataframe tbody tr th:only-of-type {\n",
       "        vertical-align: middle;\n",
       "    }\n",
       "\n",
       "    .dataframe tbody tr th {\n",
       "        vertical-align: top;\n",
       "    }\n",
       "\n",
       "    .dataframe thead th {\n",
       "        text-align: right;\n",
       "    }\n",
       "</style>\n",
       "<table border=\"1\" class=\"dataframe\">\n",
       "  <thead>\n",
       "    <tr style=\"text-align: right;\">\n",
       "      <th></th>\n",
       "      <th>gdp</th>\n",
       "      <th>social</th>\n",
       "      <th>healthy</th>\n",
       "      <th>freedom</th>\n",
       "      <th>generosity</th>\n",
       "      <th>corruption</th>\n",
       "    </tr>\n",
       "  </thead>\n",
       "  <tbody>\n",
       "    <tr>\n",
       "      <th>111</th>\n",
       "      <td>0.916</td>\n",
       "      <td>0.817</td>\n",
       "      <td>0.790</td>\n",
       "      <td>0.419</td>\n",
       "      <td>0.149</td>\n",
       "      <td>0.032</td>\n",
       "    </tr>\n",
       "    <tr>\n",
       "      <th>52</th>\n",
       "      <td>1.187</td>\n",
       "      <td>1.465</td>\n",
       "      <td>0.812</td>\n",
       "      <td>0.264</td>\n",
       "      <td>0.075</td>\n",
       "      <td>0.064</td>\n",
       "    </tr>\n",
       "    <tr>\n",
       "      <th>145</th>\n",
       "      <td>1.017</td>\n",
       "      <td>1.174</td>\n",
       "      <td>0.417</td>\n",
       "      <td>0.557</td>\n",
       "      <td>0.042</td>\n",
       "      <td>0.092</td>\n",
       "    </tr>\n",
       "    <tr>\n",
       "      <th>47</th>\n",
       "      <td>1.162</td>\n",
       "      <td>1.232</td>\n",
       "      <td>0.825</td>\n",
       "      <td>0.462</td>\n",
       "      <td>0.083</td>\n",
       "      <td>0.005</td>\n",
       "    </tr>\n",
       "    <tr>\n",
       "      <th>78</th>\n",
       "      <td>1.154</td>\n",
       "      <td>1.202</td>\n",
       "      <td>0.879</td>\n",
       "      <td>0.131</td>\n",
       "      <td>0.000</td>\n",
       "      <td>0.044</td>\n",
       "    </tr>\n",
       "  </tbody>\n",
       "</table>\n",
       "</div>"
      ],
      "text/plain": [
       "       gdp  social  healthy  freedom  generosity  corruption\n",
       "111  0.916   0.817    0.790    0.419       0.149       0.032\n",
       "52   1.187   1.465    0.812    0.264       0.075       0.064\n",
       "145  1.017   1.174    0.417    0.557       0.042       0.092\n",
       "47   1.162   1.232    0.825    0.462       0.083       0.005\n",
       "78   1.154   1.202    0.879    0.131       0.000       0.044"
      ]
     },
     "execution_count": 18,
     "metadata": {},
     "output_type": "execute_result"
    }
   ],
   "source": [
    "from sklearn.model_selection import train_test_split\n",
    "\n",
    "X = df.drop(\"score\",axis=1)\n",
    "y = df[\"score\"]\n",
    "\n",
    "X_train, X_test, y_train, y_test = train_test_split(X, y, test_size=0.2, random_state=42)\n",
    "X_train.head()"
   ]
  },
  {
   "cell_type": "code",
   "execution_count": 19,
   "metadata": {},
   "outputs": [
    {
     "data": {
      "text/html": [
       "<div>\n",
       "<style scoped>\n",
       "    .dataframe tbody tr th:only-of-type {\n",
       "        vertical-align: middle;\n",
       "    }\n",
       "\n",
       "    .dataframe tbody tr th {\n",
       "        vertical-align: top;\n",
       "    }\n",
       "\n",
       "    .dataframe thead th {\n",
       "        text-align: right;\n",
       "    }\n",
       "</style>\n",
       "<table border=\"1\" class=\"dataframe\">\n",
       "  <thead>\n",
       "    <tr style=\"text-align: right;\">\n",
       "      <th></th>\n",
       "      <th>gdp</th>\n",
       "      <th>social</th>\n",
       "      <th>healthy</th>\n",
       "      <th>freedom</th>\n",
       "      <th>generosity</th>\n",
       "      <th>corruption</th>\n",
       "    </tr>\n",
       "  </thead>\n",
       "  <tbody>\n",
       "    <tr>\n",
       "      <th>72</th>\n",
       "      <td>1.051</td>\n",
       "      <td>1.361</td>\n",
       "      <td>0.871</td>\n",
       "      <td>0.197</td>\n",
       "      <td>0.142</td>\n",
       "      <td>0.080</td>\n",
       "    </tr>\n",
       "    <tr>\n",
       "      <th>9</th>\n",
       "      <td>1.340</td>\n",
       "      <td>1.573</td>\n",
       "      <td>0.910</td>\n",
       "      <td>0.647</td>\n",
       "      <td>0.361</td>\n",
       "      <td>0.302</td>\n",
       "    </tr>\n",
       "    <tr>\n",
       "      <th>57</th>\n",
       "      <td>1.229</td>\n",
       "      <td>1.211</td>\n",
       "      <td>0.909</td>\n",
       "      <td>0.495</td>\n",
       "      <td>0.179</td>\n",
       "      <td>0.154</td>\n",
       "    </tr>\n",
       "    <tr>\n",
       "      <th>60</th>\n",
       "      <td>1.229</td>\n",
       "      <td>1.191</td>\n",
       "      <td>0.909</td>\n",
       "      <td>0.423</td>\n",
       "      <td>0.202</td>\n",
       "      <td>0.035</td>\n",
       "    </tr>\n",
       "    <tr>\n",
       "      <th>25</th>\n",
       "      <td>1.365</td>\n",
       "      <td>1.436</td>\n",
       "      <td>0.857</td>\n",
       "      <td>0.418</td>\n",
       "      <td>0.151</td>\n",
       "      <td>0.078</td>\n",
       "    </tr>\n",
       "  </tbody>\n",
       "</table>\n",
       "</div>"
      ],
      "text/plain": [
       "      gdp  social  healthy  freedom  generosity  corruption\n",
       "72  1.051   1.361    0.871    0.197       0.142       0.080\n",
       "9   1.340   1.573    0.910    0.647       0.361       0.302\n",
       "57  1.229   1.211    0.909    0.495       0.179       0.154\n",
       "60  1.229   1.191    0.909    0.423       0.202       0.035\n",
       "25  1.365   1.436    0.857    0.418       0.151       0.078"
      ]
     },
     "execution_count": 19,
     "metadata": {},
     "output_type": "execute_result"
    }
   ],
   "source": [
    "X_test.head()"
   ]
  },
  {
   "cell_type": "code",
   "execution_count": 20,
   "metadata": {},
   "outputs": [
    {
     "data": {
      "text/plain": [
       "111    4.586\n",
       "52     5.940\n",
       "145    3.590\n",
       "47     6.070\n",
       "78     5.358\n",
       "Name: score, dtype: float64"
      ]
     },
     "execution_count": 20,
     "metadata": {},
     "output_type": "execute_result"
    }
   ],
   "source": [
    "y_train.head()"
   ]
  },
  {
   "cell_type": "code",
   "execution_count": 21,
   "metadata": {},
   "outputs": [
    {
     "name": "stdout",
     "output_type": "stream",
     "text": [
      "Eğitim hatası 0.5286863282545513\n",
      "Test hatası 0.4700442336475783\n"
     ]
    }
   ],
   "source": [
    "lm = LinearRegression()\n",
    "lm.fit(X_train, y_train)\n",
    "print(\"Eğitim hatası\",np.sqrt(mean_squared_error(y_train,model.predict(X_train))))\n",
    "print(\"Test hatası\",np.sqrt(mean_squared_error(y_test,model.predict(X_test))))"
   ]
  },
  {
   "cell_type": "code",
   "execution_count": 22,
   "metadata": {},
   "outputs": [],
   "source": [
    "#İlk başta tanımladığımız random_state değerini her değiştirdiğimizde, \n",
    "#farklı bir sonuç döner. Bunlardan hangisinin en iyi sonucu verdiğini \n",
    "#bulmamız gerekiyor. Bunun için şunları yapmamız gerekiyor."
   ]
  },
  {
   "cell_type": "code",
   "execution_count": 23,
   "metadata": {},
   "outputs": [
    {
     "data": {
      "text/plain": [
       "array([-0.38049606, -0.23987782, -0.24029   , -0.41370114, -0.16258143,\n",
       "       -0.37149593, -0.25642041, -0.39761278, -0.21403289, -0.29719585])"
      ]
     },
     "execution_count": 23,
     "metadata": {},
     "output_type": "execute_result"
    }
   ],
   "source": [
    "from sklearn.model_selection import cross_val_score\n",
    "cross_val_score(model, X_train, y_train, cv=10, scoring=\"neg_mean_squared_error\")"
   ]
  },
  {
   "cell_type": "code",
   "execution_count": 24,
   "metadata": {},
   "outputs": [
    {
     "name": "stdout",
     "output_type": "stream",
     "text": [
      "Cross Val Score MSE =  0.2945486894707848\n",
      "Cross Val Score RMSE =  0.5427234005188875\n"
     ]
    }
   ],
   "source": [
    "cvs_avg_mse = np.mean(-cross_val_score(model, X_train, y_train, cv=20, scoring=\"neg_mean_squared_error\"))\n",
    "cvs_avg_rmse = np.sqrt(cvs_avg_mse)\n",
    "\n",
    "print(\"Cross Val Score MSE = \",cvs_avg_mse)\n",
    "print(\"Cross Val Score RMSE = \",cvs_avg_rmse)"
   ]
  },
  {
   "cell_type": "markdown",
   "metadata": {},
   "source": [
    "RIDGE REGRESYON"
   ]
  },
  {
   "cell_type": "code",
   "execution_count": 25,
   "metadata": {},
   "outputs": [],
   "source": [
    "#Amaç, bu katsayılara ceza uygulayarak hata karelerinin toplamını minimize eden katsayıları bulmaktır.\n",
    "#Overfittinge karşı dayanıklıdır.\n",
    "#Önyargılıdır ancak varyansı düşüktür.\n",
    "#Çok fazla parametre olduğunda OLS'den daha iyidir.\n",
    "#Tüm değişkenlerle bir model oluşturur. İlişkili olmayan değişkenleri modelin dışında bırakmaz, \n",
    "#katsayılarını sıfıra yaklaştırır.\n",
    "\n",
    "#Formülde delta parametresi seçilmiş en küçük \"cross validation\" değerini verir.\n",
    "#Delta seçilince tekrar gözlemlere uygun hale gelir."
   ]
  },
  {
   "cell_type": "code",
   "execution_count": 26,
   "metadata": {},
   "outputs": [
    {
     "data": {
      "text/plain": [
       "Ridge(alpha=0.1)"
      ]
     },
     "execution_count": 26,
     "metadata": {},
     "output_type": "execute_result"
    }
   ],
   "source": [
    "#Ridge Regresyon - Model\n",
    "import numpy as np\n",
    "import pandas as pd\n",
    "from sklearn.linear_model import Ridge\n",
    "from sklearn.metrics import mean_squared_error,r2_score\n",
    "from sklearn.model_selection import train_test_split\n",
    "from sklearn import model_selection\n",
    "from sklearn.linear_model import RidgeCV\n",
    "\n",
    "X = df.drop(\"score\",axis=1)\n",
    "y = df[\"score\"]\n",
    "X_train, X_test, y_train, y_test = train_test_split(X, y, test_size=0.2, random_state=42)\n",
    "\n",
    "ridge_model = Ridge(alpha=0.1).fit(X_train, y_train)\n",
    "ridge_model"
   ]
  },
  {
   "cell_type": "code",
   "execution_count": 27,
   "metadata": {},
   "outputs": [
    {
     "data": {
      "text/plain": [
       "array([0.94225637, 1.02043421, 0.93689001, 1.44712035, 0.35979844,\n",
       "       0.97107389])"
      ]
     },
     "execution_count": 27,
     "metadata": {},
     "output_type": "execute_result"
    }
   ],
   "source": [
    "ridge_model.coef_"
   ]
  },
  {
   "cell_type": "code",
   "execution_count": 28,
   "metadata": {},
   "outputs": [],
   "source": [
    "#Her katsayıya bir alfa değeri eklenecektir. Hata katsayıları bu katsayılara göre incelenecektir."
   ]
  },
  {
   "cell_type": "code",
   "execution_count": 29,
   "metadata": {},
   "outputs": [
    {
     "data": {
      "text/plain": [
       "1.9108156265652139"
      ]
     },
     "execution_count": 29,
     "metadata": {},
     "output_type": "execute_result"
    }
   ],
   "source": [
    "ridge_model.intercept_"
   ]
  },
  {
   "cell_type": "code",
   "execution_count": 34,
   "metadata": {},
   "outputs": [
    {
     "data": {
      "image/png": "[encoded data removed]",
      "text/plain": [
       "<Figure size 432x288 with 1 Axes>"
      ]
     },
     "metadata": {},
     "output_type": "display_data"
    }
   ],
   "source": [
    "lambdas = 10**np.linspace(10,-2,100)*0.5  #Random sayılar üretecek.\n",
    "ridge_model =  Ridge()\n",
    "coefs = []\n",
    "\n",
    "for i in lambdas:\n",
    "    ridge_model.set_params(alpha=i)\n",
    "    ridge_model.fit(X_train,y_train)\n",
    "    coefs.append(ridge_model.coef_)\n",
    "    \n",
    "ax = plt.gca()\n",
    "ax.plot(lambdas, coefs)\n",
    "ax.set_xscale(\"log\")"
   ]
  },
  {
   "cell_type": "code",
   "execution_count": 35,
   "metadata": {},
   "outputs": [],
   "source": [
    "# Farklı beta değerlerinin aksine veri setimizdeki değişkenlerin katsayılarındaki değişiklikler \n",
    "# yukarıdaki grafikte görülmektedir. Görüldüğü gibi katsayılar arttıkça sıfıra yaklaşmaktadır."
   ]
  },
  {
   "cell_type": "code",
   "execution_count": 38,
   "metadata": {},
   "outputs": [
    {
     "name": "stdout",
     "output_type": "stream",
     "text": [
      "Tahmin değerleri:  [5.05318836 5.79071673 5.37059901 5.75868845 5.33588452 5.47787414\n",
      " 5.95562654 5.72047349 6.84044342 6.15987674]\n",
      "Gerçek değerler:  [4.586 5.94  3.59  6.07  5.358 5.208 5.79  5.191 7.328 6.375]\n"
     ]
    }
   ],
   "source": [
    "# Ridge Regresyon - Tahmin\n",
    "ridge_model = Ridge().fit(X_train,y_train)\n",
    "\n",
    "y_pred = ridge_model.predict(X_train)\n",
    "\n",
    "print(\"Tahmin değerleri: \", y_pred[0:10])\n",
    "print(\"Gerçek değerler: \", y_train[0:10].values)"
   ]
  },
  {
   "cell_type": "code",
   "execution_count": 41,
   "metadata": {},
   "outputs": [
    {
     "name": "stdout",
     "output_type": "stream",
     "text": [
      "Eğitim hatası:  0.28067189344529464\n"
     ]
    }
   ],
   "source": [
    "RMSE = np.mean(mean_squared_error(y_train,y_pred)) # rmse = hata karelerinin ortalamasının karekökü\n",
    "print(\"Eğitim hatası: \", RMSE)"
   ]
  },
  {
   "cell_type": "code",
   "execution_count": 42,
   "metadata": {},
   "outputs": [
    {
     "name": "stdout",
     "output_type": "stream",
     "text": [
      "Doğrulanan RMSE:  0.5410728899647692\n"
     ]
    }
   ],
   "source": [
    "Verified_RMSE = np.sqrt(np.mean(-cross_val_score(ridge_model, X_train, y_train, cv=20, scoring=\"neg_mean_squared_error\")))\n",
    "print(\"Doğrulanan RMSE: \", Verified_RMSE)"
   ]
  },
  {
   "cell_type": "code",
   "execution_count": 43,
   "metadata": {},
   "outputs": [],
   "source": [
    "#Yukarıda iki değer var. Bunlardan biri doğrulanmamış, diğeri doğrulanmış hata karelerinin\n",
    "#toplamının karekökünü temsil eden değerlerdir. Gördüğünüz gibi, doğrulanmamış değer, \n",
    "#doğrulanmış değerin neredeyse yarısıdır. Bu sonuç bize hata karelerinin ortalamasının \n",
    "#karekökünü alırken birinci yöntemi değil ikinci yöntemi kullanmanın daha doğru olduğunu göstermektedir."
   ]
  },
  {
   "cell_type": "code",
   "execution_count": 44,
   "metadata": {},
   "outputs": [
    {
     "name": "stdout",
     "output_type": "stream",
     "text": [
      "test hatası:  0.22371217702527899\n"
     ]
    }
   ],
   "source": [
    "# test hatası\n",
    "y_pred = ridge_model.predict(X_test)\n",
    "RMSE = np.mean(mean_squared_error(y_test,y_pred))\n",
    "print(\"test hatası: \", RMSE)"
   ]
  },
  {
   "cell_type": "code",
   "execution_count": 45,
   "metadata": {},
   "outputs": [
    {
     "data": {
      "text/plain": [
       "0.5102254754869214"
      ]
     },
     "execution_count": 45,
     "metadata": {},
     "output_type": "execute_result"
    }
   ],
   "source": [
    "#Model Tuning\n",
    "ridge_model = Ridge(10).fit(X_train,y_train)\n",
    "y_pred = ridge_model.predict(X_test)\n",
    "np.sqrt(mean_squared_error(y_test,y_pred))"
   ]
  },
  {
   "cell_type": "code",
   "execution_count": 46,
   "metadata": {},
   "outputs": [
    {
     "data": {
      "text/plain": [
       "0.598360248867311"
      ]
     },
     "execution_count": 46,
     "metadata": {},
     "output_type": "execute_result"
    }
   ],
   "source": [
    "ridge_model = Ridge(30).fit(X_train,y_train)\n",
    "y_pred = ridge_model.predict(X_test)\n",
    "np.sqrt(mean_squared_error(y_test,y_pred))"
   ]
  },
  {
   "cell_type": "code",
   "execution_count": 47,
   "metadata": {},
   "outputs": [
    {
     "data": {
      "text/plain": [
       "0.7710248515673939"
      ]
     },
     "execution_count": 47,
     "metadata": {},
     "output_type": "execute_result"
    }
   ],
   "source": [
    "ridge_model = Ridge(90).fit(X_train,y_train)\n",
    "y_pred = ridge_model.predict(X_test)\n",
    "np.sqrt(mean_squared_error(y_test,y_pred))"
   ]
  },
  {
   "cell_type": "code",
   "execution_count": 48,
   "metadata": {},
   "outputs": [],
   "source": [
    "# Deneme yoluyla hangi değer daha iyi çalışıyor bulabiliriz. Fakat aşağıda \n",
    "# kullandığımız metodla en doğru ve uygun değeri hızlı ve kolay bir şekilde bulabiliriz."
   ]
  },
  {
   "cell_type": "code",
   "execution_count": 49,
   "metadata": {},
   "outputs": [
    {
     "data": {
      "text/plain": [
       "RidgeCV(alphas=array([1.00000000e+10, 7.56463328e+09, 5.72236766e+09, 4.32876128e+09,\n",
       "       3.27454916e+09, 2.47707636e+09, 1.87381742e+09, 1.41747416e+09,\n",
       "       1.07226722e+09, 8.11130831e+08, 6.13590727e+08, 4.64158883e+08,\n",
       "       3.51119173e+08, 2.65608778e+08, 2.00923300e+08, 1.51991108e+08,\n",
       "       1.14975700e+08, 8.69749003e+07, 6.57933225e+07, 4.97702356e+07,\n",
       "       3.76493581e+07, 2.84803587e+0...\n",
       "       2.00923300e+00, 1.51991108e+00, 1.14975700e+00, 8.69749003e-01,\n",
       "       6.57933225e-01, 4.97702356e-01, 3.76493581e-01, 2.84803587e-01,\n",
       "       2.15443469e-01, 1.62975083e-01, 1.23284674e-01, 9.32603347e-02,\n",
       "       7.05480231e-02, 5.33669923e-02, 4.03701726e-02, 3.05385551e-02,\n",
       "       2.31012970e-02, 1.74752840e-02, 1.32194115e-02, 1.00000000e-02]),\n",
       "        cv=10, normalize=True, scoring='neg_mean_squared_error')"
      ]
     },
     "execution_count": 49,
     "metadata": {},
     "output_type": "execute_result"
    }
   ],
   "source": [
    "lambdas1 = 10**np.linspace(10,-2,100)\n",
    "lambdas2 = np.random.randint(0,1000,100)\n",
    "\n",
    "ridgeCV = RidgeCV(alphas = lambdas1,scoring = \"neg_mean_squared_error\", cv=10, normalize=True)\n",
    "ridgeCV.fit(X_train,y_train)"
   ]
  },
  {
   "cell_type": "code",
   "execution_count": 50,
   "metadata": {},
   "outputs": [
    {
     "data": {
      "text/plain": [
       "0.0932603346883218"
      ]
     },
     "execution_count": 50,
     "metadata": {},
     "output_type": "execute_result"
    }
   ],
   "source": [
    "#alpha_ özelliğini kullanarak en uygun değeri çekebiliriz.\n",
    "ridgeCV.alpha_"
   ]
  },
  {
   "cell_type": "code",
   "execution_count": 51,
   "metadata": {},
   "outputs": [
    {
     "data": {
      "text/plain": [
       "0.4739437357393686"
      ]
     },
     "execution_count": 51,
     "metadata": {},
     "output_type": "execute_result"
    }
   ],
   "source": [
    "# final modeli\n",
    "ridge_tuned = Ridge(alpha = ridgeCV.alpha_).fit(X_train,y_train)\n",
    "y_pred = ridge_tuned.predict(X_test)\n",
    "np.sqrt(mean_squared_error(y_test,y_pred))"
   ]
  },
  {
   "cell_type": "code",
   "execution_count": 52,
   "metadata": {},
   "outputs": [
    {
     "data": {
      "text/plain": [
       "0.48264839372336626"
      ]
     },
     "execution_count": 52,
     "metadata": {},
     "output_type": "execute_result"
    }
   ],
   "source": [
    "# lambdas2 için\n",
    "ridgeCV = RidgeCV(alphas = lambdas2,scoring = \"neg_mean_squared_error\", cv=10, normalize=True)\n",
    "ridgeCV.fit(X_train,y_train)\n",
    "ridge_tuned = Ridge(alpha = ridgeCV.alpha_).fit(X_train,y_train)\n",
    "y_pred = ridge_tuned.predict(X_test)\n",
    "np.sqrt(mean_squared_error(y_test,y_pred))"
   ]
  },
  {
   "cell_type": "markdown",
   "metadata": {},
   "source": [
    "LASSO REGRESYON"
   ]
  },
  {
   "cell_type": "code",
   "execution_count": 9,
   "metadata": {},
   "outputs": [
    {
     "name": "stdout",
     "output_type": "stream",
     "text": [
      "intercept:  5.346196172248804\n",
      "coef:  [0. 0. 0. 0. 0. 0.]\n"
     ]
    }
   ],
   "source": [
    "#Ürettiği modelin tahmin doğruluğunu ve yorumlanabilirliğini arttırmak için hem değişken seçimi\n",
    "#hem de regularization yapar. Aynı ridge regresyonda olduğu gibi amaç hata kareler toplamını\n",
    "#minimize eden katsayıları, katsayılara ceza uygularayarak bulmaktır. Fakat ridge regresyondan\n",
    "#farklı olarak ilgisiz değişkenlerin katsayılarını sıfıra eşitler.\n",
    "import numpy as np\n",
    "import pandas as pd\n",
    "from sklearn.linear_model import Ridge,Lasso\n",
    "from sklearn.metrics import mean_squared_error,r2_score\n",
    "from sklearn.model_selection import train_test_split, cross_val_score\n",
    "from sklearn import model_selection\n",
    "from sklearn.linear_model import RidgeCV, LassoCV\n",
    "\n",
    "X = df.drop(\"score\",axis=1)\n",
    "y = df[\"score\"]\n",
    "X_train, X_test, y_train, y_test = train_test_split(X, y, test_size=0.33, random_state=42)\n",
    "lasso_model = Lasso().fit(X_train,y_train)\n",
    "print(\"intercept: \", lasso_model.intercept_)\n",
    "print(\"coef: \", lasso_model.coef_)"
   ]
  },
  {
   "cell_type": "code",
   "execution_count": 10,
   "metadata": {},
   "outputs": [],
   "source": [
    "alphas = np.random.randint(0,10000,10) #Farklı lambda değerleri için katsayılar\n",
    "lasso = Lasso()\n",
    "coefs = []\n",
    "\n",
    "for a in alphas:\n",
    "    lasso.set_params(alpha=a)\n",
    "    lasso.fit(X_train,y_train)\n",
    "    coefs.append(lasso.coef_)"
   ]
  },
  {
   "cell_type": "code",
   "execution_count": 11,
   "metadata": {},
   "outputs": [
    {
     "data": {
      "image/png": "[encoded data removed]",
      "text/plain": [
       "<Figure size 432x288 with 1 Axes>"
      ]
     },
     "metadata": {},
     "output_type": "display_data"
    }
   ],
   "source": [
    "ax = plt.gca()\n",
    "ax.plot(alphas,coefs)\n",
    "ax.set_xscale(\"log\")"
   ]
  },
  {
   "cell_type": "code",
   "execution_count": 13,
   "metadata": {},
   "outputs": [
    {
     "data": {
      "text/plain": [
       "array([5.34619617, 5.34619617, 5.34619617, 5.34619617, 5.34619617])"
      ]
     },
     "execution_count": 13,
     "metadata": {},
     "output_type": "execute_result"
    }
   ],
   "source": [
    "#Tahmin\n",
    "lasso_model.predict(X_train)[0:5]"
   ]
  },
  {
   "cell_type": "code",
   "execution_count": 14,
   "metadata": {},
   "outputs": [
    {
     "data": {
      "text/plain": [
       "array([5.34619617, 5.34619617, 5.34619617, 5.34619617, 5.34619617])"
      ]
     },
     "execution_count": 14,
     "metadata": {},
     "output_type": "execute_result"
    }
   ],
   "source": [
    "lasso_model.predict(X_test)[0:5]"
   ]
  },
  {
   "cell_type": "code",
   "execution_count": 15,
   "metadata": {},
   "outputs": [
    {
     "data": {
      "text/plain": [
       "1.108776315534746"
      ]
     },
     "execution_count": 15,
     "metadata": {},
     "output_type": "execute_result"
    }
   ],
   "source": [
    "y_pred = lasso_model.predict(X_test)\n",
    "np.sqrt(mean_squared_error(y_test,y_pred))"
   ]
  },
  {
   "cell_type": "code",
   "execution_count": 16,
   "metadata": {},
   "outputs": [
    {
     "data": {
      "text/plain": [
       "-0.015561293164185752"
      ]
     },
     "execution_count": 16,
     "metadata": {},
     "output_type": "execute_result"
    }
   ],
   "source": [
    "r2_score(y_test,y_pred)"
   ]
  },
  {
   "cell_type": "code",
   "execution_count": 17,
   "metadata": {},
   "outputs": [
    {
     "data": {
      "text/plain": [
       "LassoCV(cv=10, max_iter=100000)"
      ]
     },
     "execution_count": 17,
     "metadata": {},
     "output_type": "execute_result"
    }
   ],
   "source": [
    "#Model Tuning\n",
    "lasso_cv_model = LassoCV(cv=10,max_iter=100000).fit(X_train,y_train)\n",
    "lasso_cv_model"
   ]
  },
  {
   "cell_type": "code",
   "execution_count": 18,
   "metadata": {},
   "outputs": [
    {
     "data": {
      "text/plain": [
       "0.0026847466799991312"
      ]
     },
     "execution_count": 18,
     "metadata": {},
     "output_type": "execute_result"
    }
   ],
   "source": [
    "lasso_cv_model.alpha_"
   ]
  },
  {
   "cell_type": "code",
   "execution_count": 19,
   "metadata": {},
   "outputs": [
    {
     "data": {
      "text/plain": [
       "0.5394427335399019"
      ]
     },
     "execution_count": 19,
     "metadata": {},
     "output_type": "execute_result"
    }
   ],
   "source": [
    "lasso_tuned = Lasso().set_params(alpha= lasso_cv_model.alpha_).fit(X_train,y_train)\n",
    "y_pred = lasso_tuned.predict(X_test)\n",
    "np.sqrt(mean_squared_error(y_test,y_pred))"
   ]
  },
  {
   "cell_type": "markdown",
   "metadata": {},
   "source": [
    "ELASTICNET REGRESYON"
   ]
  },
  {
   "cell_type": "code",
   "execution_count": 20,
   "metadata": {},
   "outputs": [],
   "source": [
    "#ElasticNet, L1 ve L2 yaklaşımlarını birleştirir. Ridge regresyon tarzı cezalandırma ve \n",
    "#lasso regresyon tarzında değişken seçimi yapar.\n",
    "#Model ve tahmin\n",
    "import numpy as np\n",
    "import pandas as pd\n",
    "from sklearn.linear_model import Ridge,Lasso,ElasticNet\n",
    "from sklearn.metrics import mean_squared_error,r2_score\n",
    "from sklearn.model_selection import train_test_split, cross_val_score\n",
    "from sklearn import model_selection\n",
    "from sklearn.linear_model import RidgeCV, LassoCV, ElasticNetCV\n",
    "\n",
    "X = df.drop(\"score\",axis=1)\n",
    "y = df[\"score\"]\n",
    "X_train, X_test, y_train, y_test = train_test_split(X, y, test_size=0.33, random_state=42)\n",
    "\n",
    "enet_model = ElasticNet().fit(X_train,y_train)"
   ]
  },
  {
   "cell_type": "code",
   "execution_count": 21,
   "metadata": {},
   "outputs": [
    {
     "data": {
      "text/plain": [
       "array([0., 0., 0., 0., 0., 0.])"
      ]
     },
     "execution_count": 21,
     "metadata": {},
     "output_type": "execute_result"
    }
   ],
   "source": [
    "enet_model.coef_"
   ]
  },
  {
   "cell_type": "code",
   "execution_count": 22,
   "metadata": {},
   "outputs": [
    {
     "data": {
      "text/plain": [
       "5.346196172248804"
      ]
     },
     "execution_count": 22,
     "metadata": {},
     "output_type": "execute_result"
    }
   ],
   "source": [
    "enet_model.intercept_"
   ]
  },
  {
   "cell_type": "code",
   "execution_count": 23,
   "metadata": {},
   "outputs": [
    {
     "data": {
      "text/plain": [
       "array([5.34619617, 5.34619617, 5.34619617, 5.34619617, 5.34619617,\n",
       "       5.34619617, 5.34619617, 5.34619617, 5.34619617, 5.34619617])"
      ]
     },
     "execution_count": 23,
     "metadata": {},
     "output_type": "execute_result"
    }
   ],
   "source": [
    "enet_model.predict(X_train)[0:10]"
   ]
  },
  {
   "cell_type": "code",
   "execution_count": 24,
   "metadata": {},
   "outputs": [
    {
     "data": {
      "text/plain": [
       "array([5.34619617, 5.34619617, 5.34619617, 5.34619617, 5.34619617,\n",
       "       5.34619617, 5.34619617, 5.34619617, 5.34619617, 5.34619617])"
      ]
     },
     "execution_count": 24,
     "metadata": {},
     "output_type": "execute_result"
    }
   ],
   "source": [
    "enet_model.predict(X_test)[0:10]"
   ]
  },
  {
   "cell_type": "code",
   "execution_count": 25,
   "metadata": {},
   "outputs": [
    {
     "data": {
      "text/plain": [
       "1.108776315534746"
      ]
     },
     "execution_count": 25,
     "metadata": {},
     "output_type": "execute_result"
    }
   ],
   "source": [
    "y_pred = enet_model.predict(X_test)\n",
    "np.sqrt(mean_squared_error(y_test,y_pred))"
   ]
  },
  {
   "cell_type": "code",
   "execution_count": null,
   "metadata": {},
   "outputs": [],
   "source": []
  }
 ],
 "metadata": {
  "kernelspec": {
   "display_name": "Python 3",
   "language": "python",
   "name": "python3"
  },
  "language_info": {
   "codemirror_mode": {
    "name": "ipython",
    "version": 3
   },
   "file_extension": ".py",
   "mimetype": "text/x-python",
   "name": "python",
   "nbconvert_exporter": "python",
   "pygments_lexer": "ipython3",
   "version": "3.8.3"
  }
 },
 "nbformat": 4,
 "nbformat_minor": 4
}
